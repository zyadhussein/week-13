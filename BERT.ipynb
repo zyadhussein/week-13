{
 "cells": [
  {
   "cell_type": "markdown",
   "id": "e6311cd0",
   "metadata": {},
   "source": [
    "This notebook is created to illustrate the construction of hate speech detection using BERT model through ilustration of the daatset cleaning, BERT architecture building, model importing, model training and evaluation of the results"
   ]
  },
  {
   "cell_type": "code",
   "execution_count": 16,
   "id": "07317675",
   "metadata": {},
   "outputs": [],
   "source": [
    "import numpy as np\n",
    "import pandas as pd\n",
    "import torch\n",
    "import torch.nn as nn\n",
    "from sklearn.model_selection import train_test_split\n",
    "from sklearn.metrics import classification_report\n",
    "import transformers\n",
    "from transformers import AutoModel, BertTokenizer\n",
    "from dask.dataframe import DataFrame\n",
    "import dask.dataframe as dd\n",
    "import re\n",
    "from babel.dates import format_time\n",
    "import time\n",
    "from transformers import AdamW\n",
    "from sklearn.utils.class_weight import compute_class_weight\n",
    "from torch.utils.data import TensorDataset, DataLoader, RandomSampler, SequentialSampler\n",
    "import matplotlib.pyplot as plt"
   ]
  },
  {
   "cell_type": "markdown",
   "id": "05b9e2aa",
   "metadata": {},
   "source": [
    "Importing all libraries required to build the model, import the dataset, clean the dataset and evaluation of results."
   ]
  },
  {
   "cell_type": "code",
   "execution_count": 4,
   "id": "eb3af9b4",
   "metadata": {},
   "outputs": [],
   "source": [
    "# specify GPU\n",
    "device = torch.device(\"cuda\")"
   ]
  },
  {
   "cell_type": "code",
   "execution_count": 4,
   "id": "3ba04ac1",
   "metadata": {},
   "outputs": [],
   "source": [
    "\n",
    "trainpanda=dd.read_csv('train_E6oV3lV.csv')\n",
    "data=[]\n",
    "for i in range(0,31962):\n",
    "\n",
    "    x=trainpanda.loc[i,'tweet'].values\n",
    "    f=x.compute()\n",
    "    #this is cleaning a sample text extracted from the dataset using regex as requested.\n",
    "    #\n",
    "    cleaning = re.sub(r'[^\\w\\s\\d#]', '', f[0])#remove anything that s not words, numbers or spaces\n",
    "    #but not hashtags as they contain good information\n",
    "    cleaning = re.sub(r'@\\w+', '', cleaning)# removing @user (optional)\n",
    "    #cleaning = re.sub(r'\\s+', ' ', cleaning).strip()#removing whitespaces\n",
    "    cleaning = re.sub(r'http\\S+|www\\S+|https\\S+', '', cleaning)#removing urls\n",
    "    cleaned = cleaning.encode('ascii', 'ignore').decode('ascii')#remove unicode characters\n",
    "    data.append(cleaned)"
   ]
  },
  {
   "cell_type": "markdown",
   "id": "b835bcaa",
   "metadata": {},
   "source": [
    "cleaning the dataset using regex methods and other methods illustrated above and utilized from week 6 task."
   ]
  },
  {
   "cell_type": "code",
   "execution_count": 5,
   "id": "8ecd271f",
   "metadata": {},
   "outputs": [],
   "source": [
    "data2=[]\n",
    "def correct(word):\n",
    "    # Apply the necessary correction logic to fix the word\n",
    "    # Example: Replace 'q' with 'g'\n",
    "    corrected_word = word.replace('user', \"\")   \n",
    "    return corrected_word\n",
    "for row in data:\n",
    "    cleaner=row.replace('user', \"\")\n",
    "    data2.append(cleaner)\n",
    "label=trainpanda['label'].compute().tolist()\n",
    "text=data2\n",
    "refinedset=DataFrame.from_dict({'label':label,'tweet':text}, npartitions=2)\n",
    "#refinedset.compute().to_csv(\"./refined\", index=False)"
   ]
  },
  {
   "cell_type": "markdown",
   "id": "9411c1e6",
   "metadata": {},
   "source": [
    "In the next cell, the refined dataset is Loaded as it takes an hour to refine the dataset."
   ]
  },
  {
   "cell_type": "code",
   "execution_count": 27,
   "id": "816e98e9",
   "metadata": {},
   "outputs": [
    {
     "data": {
      "text/html": [
       "<div>\n",
       "<style scoped>\n",
       "    .dataframe tbody tr th:only-of-type {\n",
       "        vertical-align: middle;\n",
       "    }\n",
       "\n",
       "    .dataframe tbody tr th {\n",
       "        vertical-align: top;\n",
       "    }\n",
       "\n",
       "    .dataframe thead th {\n",
       "        text-align: right;\n",
       "    }\n",
       "</style>\n",
       "<table border=\"1\" class=\"dataframe\">\n",
       "  <thead>\n",
       "    <tr style=\"text-align: right;\">\n",
       "      <th></th>\n",
       "      <th>label</th>\n",
       "      <th>tweet</th>\n",
       "    </tr>\n",
       "  </thead>\n",
       "  <tbody>\n",
       "    <tr>\n",
       "      <th>0</th>\n",
       "      <td>0</td>\n",
       "      <td>when a father is dysfunctional and is so sel...</td>\n",
       "    </tr>\n",
       "    <tr>\n",
       "      <th>1</th>\n",
       "      <td>0</td>\n",
       "      <td>thanks for #lyft credit i cant use cause the...</td>\n",
       "    </tr>\n",
       "    <tr>\n",
       "      <th>2</th>\n",
       "      <td>0</td>\n",
       "      <td>bihday your majesty</td>\n",
       "    </tr>\n",
       "    <tr>\n",
       "      <th>3</th>\n",
       "      <td>0</td>\n",
       "      <td>#model   i love u take with u all the time in ...</td>\n",
       "    </tr>\n",
       "    <tr>\n",
       "      <th>4</th>\n",
       "      <td>0</td>\n",
       "      <td>factsguide society now    #motivation</td>\n",
       "    </tr>\n",
       "    <tr>\n",
       "      <th>...</th>\n",
       "      <td>...</td>\n",
       "      <td>...</td>\n",
       "    </tr>\n",
       "    <tr>\n",
       "      <th>31957</th>\n",
       "      <td>0</td>\n",
       "      <td>ate  isz that youuu</td>\n",
       "    </tr>\n",
       "    <tr>\n",
       "      <th>31958</th>\n",
       "      <td>0</td>\n",
       "      <td>to see nina turner on the airwaves trying to...</td>\n",
       "    </tr>\n",
       "    <tr>\n",
       "      <th>31959</th>\n",
       "      <td>0</td>\n",
       "      <td>listening to sad songs on a monday morning otw...</td>\n",
       "    </tr>\n",
       "    <tr>\n",
       "      <th>31960</th>\n",
       "      <td>1</td>\n",
       "      <td>#sikh #temple vandalised in in #calgary #wso ...</td>\n",
       "    </tr>\n",
       "    <tr>\n",
       "      <th>31961</th>\n",
       "      <td>0</td>\n",
       "      <td>thank you  for you follow</td>\n",
       "    </tr>\n",
       "  </tbody>\n",
       "</table>\n",
       "<p>31962 rows × 2 columns</p>\n",
       "</div>"
      ],
      "text/plain": [
       "       label                                              tweet\n",
       "0          0    when a father is dysfunctional and is so sel...\n",
       "1          0    thanks for #lyft credit i cant use cause the...\n",
       "2          0                                bihday your majesty\n",
       "3          0  #model   i love u take with u all the time in ...\n",
       "4          0              factsguide society now    #motivation\n",
       "...      ...                                                ...\n",
       "31957      0                               ate  isz that youuu \n",
       "31958      0    to see nina turner on the airwaves trying to...\n",
       "31959      0  listening to sad songs on a monday morning otw...\n",
       "31960      1   #sikh #temple vandalised in in #calgary #wso ...\n",
       "31961      0                        thank you  for you follow  \n",
       "\n",
       "[31962 rows x 2 columns]"
      ]
     },
     "execution_count": 27,
     "metadata": {},
     "output_type": "execute_result"
    }
   ],
   "source": [
    "refinedset=dd.read_csv('refined')\n",
    "label=refinedset['label'].compute().tolist()\n",
    "text=refinedset['tweet'].compute().tolist()\n",
    "refinedset=DataFrame.from_dict({'label':label,'tweet':text}, npartitions=2)\n",
    "#refinedset.compute().to_csv(\"./refined\", index=False)\n",
    "refinedset.compute()"
   ]
  },
  {
   "cell_type": "markdown",
   "id": "d227b334",
   "metadata": {},
   "source": [
    "in the next cell, the dataset is divivded into 70%-30% ratio for training and division respectively. the testing dataset is divivded into 50% validation and 50% testing."
   ]
  },
  {
   "cell_type": "code",
   "execution_count": 24,
   "id": "40f07598",
   "metadata": {},
   "outputs": [
    {
     "data": {
      "image/png": "[encoded data removed]",
      "text/plain": [
       "<Figure size 640x480 with 1 Axes>"
      ]
     },
     "metadata": {},
     "output_type": "display_data"
    },
    {
     "data": {
      "image/png": "[encoded data removed]",
      "text/plain": [
       "<Figure size 640x480 with 1 Axes>"
      ]
     },
     "metadata": {},
     "output_type": "display_data"
    }
   ],
   "source": [
    "refinedset['label'].value_counts(normalize=True).head()\n",
    "\n",
    "train_tweet, temp_text, train_labels, temp_labels = train_test_split(refinedset['tweet'], refinedset['label'], \n",
    "                                                                    random_state=2018, \n",
    "                                                                    test_size=0.3, \n",
    "                                                                    stratify=refinedset['label'])\n",
    "\n",
    "texttest=temp_text.compute().tolist()\n",
    "testlabel=temp_labels.compute().tolist()\n",
    "temp=DataFrame.from_dict({'label':testlabel,'tweet':texttest}, npartitions=2)\n",
    "\n",
    "val_text, test_text, val_labels, test_labels = train_test_split(temp['tweet'], temp['label'], \n",
    "                                                                random_state=2018, \n",
    "                                                                test_size=0.5, \n",
    "                                                                stratify=temp_labels)\n",
    "\n",
    "\n",
    "sizes=np.array([len(train_tweet), len(val_text),len(test_text)])\n",
    "pltlabels=[\"train set\",\"Val set\", \"Test Set\"]\n",
    "myexplode = [0.2, 0.2, 0.2]\n",
    "plt.pie(sizes, labels=pltlabels, startangle = 90, shadow = True)\n",
    "plt.show()\n",
    "plt.pie(sizes, labels=pltlabels, startangle = 90, shadow = True, explode = myexplode)\n",
    "plt.show()\n"
   ]
  },
  {
   "cell_type": "markdown",
   "id": "5fd6a967",
   "metadata": {},
   "source": [
    "loading BERT pretrained model and tokenizer. alongsdie this, a histogram of the length of the tweet is provided."
   ]
  },
  {
   "cell_type": "code",
   "execution_count": 7,
   "id": "dbb1ffbf",
   "metadata": {},
   "outputs": [
    {
     "data": {
      "text/plain": [
       "<AxesSubplot:>"
      ]
     },
     "execution_count": 7,
     "metadata": {},
     "output_type": "execute_result"
    },
    {
     "data": {
      "image/png": "[encoded data removed]",
      "text/plain": [
       "<Figure size 640x480 with 1 Axes>"
      ]
     },
     "metadata": {},
     "output_type": "display_data"
    }
   ],
   "source": [
    "bert = AutoModel.from_pretrained('bert-base-uncased')\n",
    "tokenizer = BertTokenizer.from_pretrained('bert-base-uncased')\n",
    "seq_len = [len(i.split()) for i in train_tweet]\n",
    "pd.Series(seq_len).hist(bins = 30)\n"
   ]
  },
  {
   "cell_type": "markdown",
   "id": "b7ed113b",
   "metadata": {},
   "source": [
    "tokenize the training dataset, testing dataset and validation set."
   ]
  },
  {
   "cell_type": "code",
   "execution_count": 10,
   "id": "e1118c77",
   "metadata": {},
   "outputs": [],
   "source": [
    "tokens_train = tokenizer.batch_encode_plus(\n",
    "    train_tweet.compute().tolist(),\n",
    "    max_length = 25,\n",
    "    padding=True,\n",
    "    truncation=True\n",
    ")\n",
    "\n",
    "tokens_test = tokenizer.batch_encode_plus(\n",
    "    test_text.compute().tolist(),\n",
    "    max_length = 25,\n",
    "   padding=True,\n",
    "    truncation=True\n",
    ")\n",
    "tokens_val = tokenizer.batch_encode_plus(\n",
    "    val_text.compute().tolist(),\n",
    "    max_length = 25,\n",
    "    padding=True,\n",
    "    truncation=True\n",
    ")\n"
   ]
  },
  {
   "cell_type": "markdown",
   "id": "282aa06c",
   "metadata": {},
   "source": [
    "converting the tokenized sets from lists to tensors thrpough creating tensor for the encoding sequence, tokenized mask and training, validation and testing set."
   ]
  },
  {
   "cell_type": "code",
   "execution_count": 184,
   "id": "349ad1c5",
   "metadata": {},
   "outputs": [],
   "source": [
    "train_seq = torch.tensor(tokens_train['input_ids'])\n",
    "train_mask = torch.tensor(tokens_train['attention_mask'])\n",
    "train_y = torch.tensor(train_labels.compute().tolist())\n",
    "\n",
    "val_seq = torch.tensor(tokens_val['input_ids'])\n",
    "val_mask = torch.tensor(tokens_val['attention_mask'])\n",
    "val_y = torch.tensor(val_labels.compute().tolist())\n",
    "\n",
    "test_seq = torch.tensor(tokens_test['input_ids'])\n",
    "test_mask = torch.tensor(tokens_test['attention_mask'])\n",
    "test_y = torch.tensor(test_labels.compute().tolist())"
   ]
  },
  {
   "cell_type": "markdown",
   "id": "924e756e",
   "metadata": {},
   "source": [
    "Defining some necessary parameters for the BERT model such as Batch size (which should be set according to GPU capability) and creating Dataloader for the datasets"
   ]
  },
  {
   "cell_type": "code",
   "execution_count": 163,
   "id": "925ac9c7",
   "metadata": {},
   "outputs": [],
   "source": [
    "batch_size = 32  #define a batch size\n",
    "train_data = TensorDataset(train_seq, train_mask, train_y)# wrap tensors\n",
    "train_sampler = RandomSampler(train_data)# sampler for sampling the data during training\n",
    "train_dataloader = DataLoader(train_data, sampler=train_sampler, batch_size=batch_size)# dataLoader for train set\n",
    "val_data = TensorDataset(val_seq, val_mask, val_y)# wrap tensors\n",
    "val_sampler = SequentialSampler(val_data)# sampler for sampling the data during training\n",
    "val_dataloader = DataLoader(val_data, sampler = val_sampler, batch_size=batch_size)# dataLoader for validation set"
   ]
  },
  {
   "cell_type": "markdown",
   "id": "f7eb071c",
   "metadata": {},
   "source": [
    "Creating a class for the BERT architecture to specify and tailor its parameters such as specifying activation function and softmax activation function and passing the specified parameters to the created model."
   ]
  },
  {
   "cell_type": "code",
   "execution_count": 164,
   "id": "8dfa9787",
   "metadata": {},
   "outputs": [],
   "source": [
    "for param in bert.parameters():\n",
    "    param.requires_grad = False\n",
    "class BERT_Arch(nn.Module):\n",
    "    def __init__(self, bert):\n",
    "        super(BERT_Arch, self).__init__()\n",
    "        self.bert = bert \n",
    "        self.dropout = nn.Dropout(0.1)# dropout layer\n",
    "        self.relu =  nn.ReLU()# relu activation function\n",
    "        self.fc1 = nn.Linear(768,512) # dense layer 1\n",
    "        self.fc2 = nn.Linear(512,2)# dense layer 2 (Output layer)\n",
    "        self.softmax = nn.LogSoftmax(dim=1)#softmax activation function\n",
    "    def forward(self, sent_id, mask):\n",
    "        \n",
    "        #pass the inputs to the model  \n",
    "        _, cls_hs = self.bert(sent_id, attention_mask=mask, return_dict=False)\n",
    "        x = self.fc1(cls_hs)\n",
    "        x = self.relu(x)\n",
    "        x = self.dropout(x)\n",
    "        x = self.fc2(x)# output layer\n",
    "        x = self.softmax(x)# apply softmax activation\n",
    "\n",
    "        return x"
   ]
  },
  {
   "cell_type": "markdown",
   "id": "6832573c",
   "metadata": {},
   "source": [
    "In the next cell, the pretrained cell is passed to the predefined parameters/architecture and the model is pushed to GPU to be able to train it."
   ]
  },
  {
   "cell_type": "code",
   "execution_count": 165,
   "id": "4302642a",
   "metadata": {},
   "outputs": [],
   "source": [
    "###########pass the pre-trained BERT to our define architecture###################\n",
    "model = BERT_Arch(bert)\n",
    "model = model.to(device)# push the model to GPU\n",
    "optimizer = torch.optim.AdamW(model.parameters(),lr = 1e-5)# define the optimizer "
   ]
  },
  {
   "cell_type": "markdown",
   "id": "e90c1c52",
   "metadata": {},
   "source": [
    "weight of each class in the datset was calculated (labels)"
   ]
  },
  {
   "cell_type": "code",
   "execution_count": 166,
   "id": "2db561ac",
   "metadata": {},
   "outputs": [
    {
     "name": "stdout",
     "output_type": "stream",
     "text": [
      "Class Weights: [0.53770909 7.12970045]\n"
     ]
    }
   ],
   "source": [
    "#compute the class weights\n",
    "class_weights = compute_class_weight(class_weight='balanced', classes=np.unique(train_labels), y=train_labels)\n",
    "print(\"Class Weights:\",class_weights)\n",
    "weights= torch.tensor(class_weights,dtype=torch.float)# converting list of class weights to a tensor\n",
    "weights = weights.to(device)# push to GPU\n",
    "cross_entropy  = nn.NLLLoss(weight=weights)# define the loss function\n",
    "epochs = 15# number of training epochs"
   ]
  },
  {
   "cell_type": "markdown",
   "id": "5297d46f",
   "metadata": {},
   "source": [
    "in the next cell, the training function was created which uses the training dataset divided as random batches of size 32 and feed it to the model to update its weights and it keeps reiterating for a defined number of epochs. it keeps track of the loss and total accuracy percentage as the total loss percentage (error) should converge each epoch. to minimise the error, the function does a backward pass or a backpropagaion method to calculate the gradients (refine the weights of each node) to improve accuracy."
   ]
  },
  {
   "cell_type": "code",
   "execution_count": 167,
   "id": "1a51373a",
   "metadata": {},
   "outputs": [],
   "source": [
    "# function to train the model\n",
    "def training():   \n",
    "    model.train()\n",
    "    total_loss, total_accuracy = 0, 0\n",
    "    total_preds=[] # empty list to save model predictions  \n",
    "    # iterate over batches\n",
    "    for step,batch in enumerate(train_dataloader):                \n",
    "        if step % 50 == 0 and not step == 0:# progress update after every 50 batches.\n",
    "            print('  Batch {:>5,}  of  {:>5,}.'.format(step, len(train_dataloader)))                \n",
    "        batch = [r.to(device) for r in batch]# push the batch to gpu\n",
    "        sent_id, mask, labels = batch          \n",
    "        model.zero_grad()# clear previously calculated gradients        \n",
    "        preds = model(sent_id, mask)# get model predictions for the current batch        \n",
    "        loss = cross_entropy(preds, labels)# compute the loss between actual and predicted values        \n",
    "        total_loss = total_loss + loss.item()# add on to the total loss        \n",
    "        loss.backward()# backward pass to calculate the gradients        \n",
    "        torch.nn.utils.clip_grad_norm_(model.parameters(), 1.0)# clip the the gradients to 1.0. It helps in preventing the exploding gradient problem        \n",
    "        optimizer.step()# update parameters        \n",
    "        preds=preds.detach().cpu().numpy()# model predictions are stored on GPU. So, push it to CPU    \n",
    "    total_preds.append(preds)# append the model predictions   \n",
    "    avg_loss = total_loss / len(train_dataloader)# compute the training loss of the epoch  \n",
    "      # predictions are in the form of (no. of batches, size of batch, no. of classes).      \n",
    "    total_preds  = np.concatenate(total_preds, axis=0)# reshape the predictions in form of (number of samples, no. of classes)    \n",
    "    return avg_loss, total_preds#returns the loss and predictions"
   ]
  },
  {
   "cell_type": "markdown",
   "id": "286874a2",
   "metadata": {},
   "source": [
    "This function is created to evaluate the models performance during each epoch to identify the best result the model has reached and ave it  automatically."
   ]
  },
  {
   "cell_type": "code",
   "execution_count": 168,
   "id": "12347d39",
   "metadata": {},
   "outputs": [],
   "source": [
    "################function for evaluating the model####################\n",
    "def evaluation():          \n",
    "    # deactivate dropout layers\n",
    "    model.eval()\n",
    "    total_loss, total_accuracy = 0, 0        \n",
    "    total_preds = []# empty list to save the model predictions\n",
    "    print(\"\\nEvaluating...\")\n",
    "    # iterate over batches\n",
    "    for step,batch in enumerate(val_dataloader):               \n",
    "        if step % 50 == 0 and not step == 0: # Progress update every 50 batches.                        \n",
    "            print('  Batch {:>5,}  of  {:>5,}.'.format(step, len(val_dataloader)))# Report progress.        \n",
    "        batch = [t.to(device) for t in batch]# push the batch to gpu\n",
    "        sent_id, mask, labels = batch\n",
    "        # deactivate autograd\n",
    "        with torch.no_grad():            \n",
    "            # model predictions\n",
    "            preds = model(sent_id, mask)\n",
    "            # compute the validation loss between actual and predicted values\n",
    "            loss = cross_entropy(preds,labels)\n",
    "            total_loss = total_loss + loss.item()\n",
    "            preds = preds.detach().cpu().numpy()\n",
    "            total_preds.append(preds)    \n",
    "    avg_loss = total_loss / len(val_dataloader) # compute the validation loss of the epoch   \n",
    "    total_preds  = np.concatenate(total_preds, axis=0) # reshape the predictions in form of (number of samples, no. of classes)\n",
    "    return avg_loss, total_preds"
   ]
  },
  {
   "cell_type": "code",
   "execution_count": 20,
   "id": "689a576a",
   "metadata": {
    "scrolled": false
   },
   "outputs": [
    {
     "name": "stdout",
     "output_type": "stream",
     "text": [
      "\n",
      " Epoch 1 / 15\n",
      "  Batch    50  of    700.\n",
      "  Batch   100  of    700.\n",
      "  Batch   150  of    700.\n",
      "  Batch   200  of    700.\n",
      "  Batch   250  of    700.\n",
      "  Batch   300  of    700.\n",
      "  Batch   350  of    700.\n",
      "  Batch   400  of    700.\n",
      "  Batch   450  of    700.\n",
      "  Batch   500  of    700.\n",
      "  Batch   550  of    700.\n",
      "  Batch   600  of    700.\n",
      "  Batch   650  of    700.\n",
      "\n",
      "Evaluating...\n",
      "  Batch    50  of    150.\n",
      "  Batch   100  of    150.\n",
      "\n",
      "Training Loss: 0.668\n",
      "Validation Loss: 0.635\n",
      "\n",
      " Epoch 2 / 15\n",
      "  Batch    50  of    700.\n",
      "  Batch   100  of    700.\n",
      "  Batch   150  of    700.\n",
      "  Batch   200  of    700.\n",
      "  Batch   250  of    700.\n",
      "  Batch   300  of    700.\n",
      "  Batch   350  of    700.\n",
      "  Batch   400  of    700.\n",
      "  Batch   450  of    700.\n",
      "  Batch   500  of    700.\n",
      "  Batch   550  of    700.\n",
      "  Batch   600  of    700.\n",
      "  Batch   650  of    700.\n",
      "\n",
      "Evaluating...\n",
      "  Batch    50  of    150.\n",
      "  Batch   100  of    150.\n",
      "\n",
      "Training Loss: 0.634\n",
      "Validation Loss: 0.595\n",
      "\n",
      " Epoch 3 / 15\n",
      "  Batch    50  of    700.\n",
      "  Batch   100  of    700.\n",
      "  Batch   150  of    700.\n",
      "  Batch   200  of    700.\n",
      "  Batch   250  of    700.\n",
      "  Batch   300  of    700.\n",
      "  Batch   350  of    700.\n",
      "  Batch   400  of    700.\n",
      "  Batch   450  of    700.\n",
      "  Batch   500  of    700.\n",
      "  Batch   550  of    700.\n",
      "  Batch   600  of    700.\n",
      "  Batch   650  of    700.\n",
      "\n",
      "Evaluating...\n",
      "  Batch    50  of    150.\n",
      "  Batch   100  of    150.\n",
      "\n",
      "Training Loss: 0.600\n",
      "Validation Loss: 0.555\n",
      "\n",
      " Epoch 4 / 15\n",
      "  Batch    50  of    700.\n",
      "  Batch   100  of    700.\n",
      "  Batch   150  of    700.\n",
      "  Batch   200  of    700.\n",
      "  Batch   250  of    700.\n",
      "  Batch   300  of    700.\n",
      "  Batch   350  of    700.\n",
      "  Batch   400  of    700.\n",
      "  Batch   450  of    700.\n",
      "  Batch   500  of    700.\n",
      "  Batch   550  of    700.\n",
      "  Batch   600  of    700.\n",
      "  Batch   650  of    700.\n",
      "\n",
      "Evaluating...\n",
      "  Batch    50  of    150.\n",
      "  Batch   100  of    150.\n",
      "\n",
      "Training Loss: 0.576\n",
      "Validation Loss: 0.526\n",
      "\n",
      " Epoch 5 / 15\n",
      "  Batch    50  of    700.\n",
      "  Batch   100  of    700.\n",
      "  Batch   150  of    700.\n",
      "  Batch   200  of    700.\n",
      "  Batch   250  of    700.\n",
      "  Batch   300  of    700.\n",
      "  Batch   350  of    700.\n",
      "  Batch   400  of    700.\n",
      "  Batch   450  of    700.\n",
      "  Batch   500  of    700.\n",
      "  Batch   550  of    700.\n",
      "  Batch   600  of    700.\n",
      "  Batch   650  of    700.\n",
      "\n",
      "Evaluating...\n",
      "  Batch    50  of    150.\n",
      "  Batch   100  of    150.\n",
      "\n",
      "Training Loss: 0.550\n",
      "Validation Loss: 0.503\n",
      "\n",
      " Epoch 6 / 15\n",
      "  Batch    50  of    700.\n",
      "  Batch   100  of    700.\n",
      "  Batch   150  of    700.\n",
      "  Batch   200  of    700.\n",
      "  Batch   250  of    700.\n",
      "  Batch   300  of    700.\n",
      "  Batch   350  of    700.\n",
      "  Batch   400  of    700.\n",
      "  Batch   450  of    700.\n",
      "  Batch   500  of    700.\n",
      "  Batch   550  of    700.\n",
      "  Batch   600  of    700.\n",
      "  Batch   650  of    700.\n",
      "\n",
      "Evaluating...\n",
      "  Batch    50  of    150.\n",
      "  Batch   100  of    150.\n",
      "\n",
      "Training Loss: 0.532\n",
      "Validation Loss: 0.493\n",
      "\n",
      " Epoch 7 / 15\n",
      "  Batch    50  of    700.\n",
      "  Batch   100  of    700.\n",
      "  Batch   150  of    700.\n",
      "  Batch   200  of    700.\n",
      "  Batch   250  of    700.\n",
      "  Batch   300  of    700.\n",
      "  Batch   350  of    700.\n",
      "  Batch   400  of    700.\n",
      "  Batch   450  of    700.\n",
      "  Batch   500  of    700.\n",
      "  Batch   550  of    700.\n",
      "  Batch   600  of    700.\n",
      "  Batch   650  of    700.\n",
      "\n",
      "Evaluating...\n",
      "  Batch    50  of    150.\n",
      "  Batch   100  of    150.\n",
      "\n",
      "Training Loss: 0.518\n",
      "Validation Loss: 0.467\n",
      "\n",
      " Epoch 8 / 15\n",
      "  Batch    50  of    700.\n",
      "  Batch   100  of    700.\n",
      "  Batch   150  of    700.\n",
      "  Batch   200  of    700.\n",
      "  Batch   250  of    700.\n",
      "  Batch   300  of    700.\n",
      "  Batch   350  of    700.\n",
      "  Batch   400  of    700.\n",
      "  Batch   450  of    700.\n",
      "  Batch   500  of    700.\n",
      "  Batch   550  of    700.\n",
      "  Batch   600  of    700.\n",
      "  Batch   650  of    700.\n",
      "\n",
      "Evaluating...\n",
      "  Batch    50  of    150.\n",
      "  Batch   100  of    150.\n",
      "\n",
      "Training Loss: 0.502\n",
      "Validation Loss: 0.468\n",
      "\n",
      " Epoch 9 / 15\n",
      "  Batch    50  of    700.\n",
      "  Batch   100  of    700.\n",
      "  Batch   150  of    700.\n",
      "  Batch   200  of    700.\n",
      "  Batch   250  of    700.\n",
      "  Batch   300  of    700.\n",
      "  Batch   350  of    700.\n",
      "  Batch   400  of    700.\n",
      "  Batch   450  of    700.\n",
      "  Batch   500  of    700.\n",
      "  Batch   550  of    700.\n",
      "  Batch   600  of    700.\n",
      "  Batch   650  of    700.\n",
      "\n",
      "Evaluating...\n",
      "  Batch    50  of    150.\n",
      "  Batch   100  of    150.\n",
      "\n",
      "Training Loss: 0.494\n",
      "Validation Loss: 0.443\n",
      "\n",
      " Epoch 10 / 15\n",
      "  Batch    50  of    700.\n",
      "  Batch   100  of    700.\n",
      "  Batch   150  of    700.\n",
      "  Batch   200  of    700.\n",
      "  Batch   250  of    700.\n",
      "  Batch   300  of    700.\n",
      "  Batch   350  of    700.\n",
      "  Batch   400  of    700.\n",
      "  Batch   450  of    700.\n",
      "  Batch   500  of    700.\n",
      "  Batch   550  of    700.\n",
      "  Batch   600  of    700.\n",
      "  Batch   650  of    700.\n",
      "\n",
      "Evaluating...\n",
      "  Batch    50  of    150.\n",
      "  Batch   100  of    150.\n",
      "\n",
      "Training Loss: 0.482\n",
      "Validation Loss: 0.444\n",
      "\n",
      " Epoch 11 / 15\n",
      "  Batch    50  of    700.\n",
      "  Batch   100  of    700.\n",
      "  Batch   150  of    700.\n",
      "  Batch   200  of    700.\n",
      "  Batch   250  of    700.\n",
      "  Batch   300  of    700.\n",
      "  Batch   350  of    700.\n",
      "  Batch   400  of    700.\n",
      "  Batch   450  of    700.\n",
      "  Batch   500  of    700.\n",
      "  Batch   550  of    700.\n",
      "  Batch   600  of    700.\n",
      "  Batch   650  of    700.\n",
      "\n",
      "Evaluating...\n",
      "  Batch    50  of    150.\n",
      "  Batch   100  of    150.\n",
      "\n",
      "Training Loss: 0.475\n",
      "Validation Loss: 0.426\n",
      "\n",
      " Epoch 12 / 15\n",
      "  Batch    50  of    700.\n",
      "  Batch   100  of    700.\n",
      "  Batch   150  of    700.\n",
      "  Batch   200  of    700.\n",
      "  Batch   250  of    700.\n",
      "  Batch   300  of    700.\n",
      "  Batch   350  of    700.\n",
      "  Batch   400  of    700.\n",
      "  Batch   450  of    700.\n",
      "  Batch   500  of    700.\n",
      "  Batch   550  of    700.\n",
      "  Batch   600  of    700.\n",
      "  Batch   650  of    700.\n",
      "\n",
      "Evaluating...\n",
      "  Batch    50  of    150.\n",
      "  Batch   100  of    150.\n",
      "\n",
      "Training Loss: 0.477\n",
      "Validation Loss: 0.419\n",
      "\n",
      " Epoch 13 / 15\n",
      "  Batch    50  of    700.\n",
      "  Batch   100  of    700.\n",
      "  Batch   150  of    700.\n",
      "  Batch   200  of    700.\n",
      "  Batch   250  of    700.\n",
      "  Batch   300  of    700.\n",
      "  Batch   350  of    700.\n",
      "  Batch   400  of    700.\n",
      "  Batch   450  of    700.\n",
      "  Batch   500  of    700.\n",
      "  Batch   550  of    700.\n",
      "  Batch   600  of    700.\n",
      "  Batch   650  of    700.\n",
      "\n",
      "Evaluating...\n",
      "  Batch    50  of    150.\n",
      "  Batch   100  of    150.\n",
      "\n",
      "Training Loss: 0.467\n",
      "Validation Loss: 0.415\n",
      "\n",
      " Epoch 14 / 15\n",
      "  Batch    50  of    700.\n",
      "  Batch   100  of    700.\n",
      "  Batch   150  of    700.\n",
      "  Batch   200  of    700.\n",
      "  Batch   250  of    700.\n",
      "  Batch   300  of    700.\n",
      "  Batch   350  of    700.\n",
      "  Batch   400  of    700.\n",
      "  Batch   450  of    700.\n",
      "  Batch   500  of    700.\n",
      "  Batch   550  of    700.\n",
      "  Batch   600  of    700.\n",
      "  Batch   650  of    700.\n",
      "\n",
      "Evaluating...\n",
      "  Batch    50  of    150.\n",
      "  Batch   100  of    150.\n",
      "\n",
      "Training Loss: 0.464\n",
      "Validation Loss: 0.413\n",
      "\n",
      " Epoch 15 / 15\n",
      "  Batch    50  of    700.\n",
      "  Batch   100  of    700.\n",
      "  Batch   150  of    700.\n",
      "  Batch   200  of    700.\n",
      "  Batch   250  of    700.\n",
      "  Batch   300  of    700.\n",
      "  Batch   350  of    700.\n",
      "  Batch   400  of    700.\n",
      "  Batch   450  of    700.\n",
      "  Batch   500  of    700.\n",
      "  Batch   550  of    700.\n",
      "  Batch   600  of    700.\n",
      "  Batch   650  of    700.\n",
      "\n",
      "Evaluating...\n",
      "  Batch    50  of    150.\n",
      "  Batch   100  of    150.\n",
      "\n",
      "Training Loss: 0.453\n",
      "Validation Loss: 0.406\n"
     ]
    }
   ],
   "source": [
    "#######################running the training and evaluation functions to train the model#########\n",
    "best_valid_loss = float('inf')# set initial loss to infinite\n",
    "train_losses=[]# empty lists to store training loss of each epoch\n",
    "valid_losses=[]# empty lists to store validation loss of each epoch\n",
    "#for each epoch\n",
    "for epoch in range(epochs):   \n",
    "    print('\\n Epoch {:} / {:}'.format(epoch + 1, epochs))        \n",
    "    train_loss, _ = training()#train model        \n",
    "    valid_loss, _ = evaluation()#evaluate model       \n",
    "    if valid_loss < best_valid_loss: #save the best model\n",
    "        best_valid_loss = valid_loss\n",
    "        torch.save(model.state_dict(), 'saved_weights.pt')    \n",
    "    # append training and validation loss\n",
    "    train_losses.append(train_loss)\n",
    "    valid_losses.append(valid_loss)\n",
    "    print(f'\\nTraining Loss: {train_loss:.3f}')\n",
    "    print(f'Validation Loss: {valid_loss:.3f}')"
   ]
  },
  {
   "cell_type": "markdown",
   "id": "8329751e",
   "metadata": {},
   "source": [
    "After saving the best and most accurate model trained, we load it to test it with the testing dataset"
   ]
  },
  {
   "cell_type": "code",
   "execution_count": 178,
   "id": "055dd28d",
   "metadata": {},
   "outputs": [
    {
     "data": {
      "text/plain": [
       "<All keys matched successfully>"
      ]
     },
     "execution_count": 178,
     "metadata": {},
     "output_type": "execute_result"
    }
   ],
   "source": [
    "path = 'saved_weights.pt'\n",
    "model.load_state_dict(torch.load(path))"
   ]
  },
  {
   "cell_type": "markdown",
   "id": "fedc7f4b",
   "metadata": {},
   "source": [
    "due to GPU memory insufficiency, i had to decrease the testing dataset number to 1000 instead of 4792. the following cell shows the predicitions made by the trained model, their accuracy, their precision and recall score."
   ]
  },
  {
   "cell_type": "code",
   "execution_count": 186,
   "id": "b7706fae",
   "metadata": {},
   "outputs": [
    {
     "name": "stdout",
     "output_type": "stream",
     "text": [
      "              precision    recall  f1-score   support\n",
      "\n",
      "           0       0.97      0.85      0.90       926\n",
      "           1       0.27      0.70      0.39        74\n",
      "\n",
      "    accuracy                           0.83      1000\n",
      "   macro avg       0.62      0.77      0.65      1000\n",
      "weighted avg       0.92      0.83      0.87      1000\n",
      "\n"
     ]
    }
   ],
   "source": [
    "l=1000\n",
    "testerseq=test_seq[0:l][:]\n",
    "testermask=test_mask[0:l][:]\n",
    "\n",
    "with torch.no_grad():\n",
    "    preds = model(testerseq.to(device), testermask.to(device))\n",
    "    preds = preds.detach().cpu().numpy()\n",
    "preds = np.argmax(preds, axis = 1)\n",
    "print(classification_report(test_y[0:l], preds))\n"
   ]
  },
  {
   "cell_type": "markdown",
   "id": "5a1288ba",
   "metadata": {},
   "source": [
    "The following cell shows the amount of available GPU memory making it harder to predict for all testing dataset."
   ]
  },
  {
   "cell_type": "code",
   "execution_count": 49,
   "id": "31f9c3a1",
   "metadata": {},
   "outputs": [
    {
     "name": "stdout",
     "output_type": "stream",
     "text": [
      "Maximum GPU Memory Allocated: 2810.21 MB\n",
      "Maximum GPU Memory Cached: 3528.00 MB\n",
      "Free GPU Memory: 1285.66 MB\n"
     ]
    }
   ],
   "source": [
    "import torch\n",
    "\n",
    "# Check the maximum GPU memory allocated\n",
    "max_allocated = torch.cuda.max_memory_allocated(device=device)  # 'device=None' refers to the current device\n",
    "\n",
    "# Check the maximum GPU memory cached\n",
    "max_cached = torch.cuda.max_memory_cached(device=device)\n",
    "\n",
    "# Calculate the amount of free memory\n",
    "free_memory = torch.cuda.get_device_properties(0).total_memory - max_allocated\n",
    "\n",
    "# Print the results\n",
    "print(f\"Maximum GPU Memory Allocated: {max_allocated / 1024 ** 2:.2f} MB\")\n",
    "print(f\"Maximum GPU Memory Cached: {max_cached / 1024 ** 2:.2f} MB\")\n",
    "print(f\"Free GPU Memory: {free_memory / 1024 ** 2:.2f} MB\")\n",
    "\n"
   ]
  },
  {
   "cell_type": "markdown",
   "id": "4945098d",
   "metadata": {},
   "source": [
    "Take into consideration that to increase model accuracy, more training needs to be implemented. not only 15 epochs but more."
   ]
  },
  {
   "cell_type": "code",
   "execution_count": 190,
   "id": "9614c8d8",
   "metadata": {},
   "outputs": [
    {
     "name": "stdout",
     "output_type": "stream",
     "text": [
      "love\n",
      "and this is supposed to be hate or love? 0 is normal and 1 is hate\n",
      "0\n",
      "              precision    recall  f1-score   support\n",
      "\n",
      "           0       1.00      1.00      1.00         1\n",
      "\n",
      "    accuracy                           1.00         1\n",
      "   macro avg       1.00      1.00      1.00         1\n",
      "weighted avg       1.00      1.00      1.00         1\n",
      "\n"
     ]
    },
    {
     "name": "stderr",
     "output_type": "stream",
     "text": [
      "C:\\Users\\20101\\anaconda3\\lib\\site-packages\\transformers\\tokenization_utils_base.py:2418: FutureWarning: The `pad_to_max_length` argument is deprecated and will be removed in a future version, use `padding=True` or `padding='longest'` to pad to the longest sequence in the batch, or use `padding='max_length'` to pad to a max length. In this case, you can give a specific length with `max_length` (e.g. `max_length=45`) or leave max_length to None to pad to the maximal input size of the model (e.g. 512 for Bert).\n",
      "  warnings.warn(\n"
     ]
    }
   ],
   "source": [
    "######################now let us test the model by entering a sentence and observing its result####################\n",
    "\n",
    "tweeter=[]\n",
    "msg=input()\n",
    "print('and this is supposed to be hate or love? 0 is normal and 1 is hate')# this question is just to provide the classification report\n",
    "testing=input()#no matter what the user puts in this input it doesn't affect the prediction\n",
    "testinglist=[]\n",
    "testinglist.append(int(testing))\n",
    "tweeter.append(msg)\n",
    "tokener = tokenizer.batch_encode_plus(\n",
    "    tweeter,\n",
    "    max_length = 25,\n",
    "   pad_to_max_length=True,\n",
    "    truncation=True\n",
    ")\n",
    "test_seq = torch.tensor(tokener['input_ids'])\n",
    "test_mask = torch.tensor(tokener['attention_mask'])\n",
    "with torch.no_grad():\n",
    "    preds = model(test_seq.to(device), test_mask.to(device))\n",
    "    preds = preds.detach().cpu().numpy()\n",
    "preds = np.argmax(preds, axis = 1)\n",
    "print(classification_report(torch.tensor(testinglist), preds))\n"
   ]
  },
  {
   "cell_type": "code",
   "execution_count": 189,
   "id": "d4f71e4f",
   "metadata": {},
   "outputs": [
    {
     "data": {
      "text/plain": [
       "array([1], dtype=int64)"
      ]
     },
     "execution_count": 189,
     "metadata": {},
     "output_type": "execute_result"
    }
   ],
   "source": [
    "preds"
   ]
  },
  {
   "cell_type": "code",
   "execution_count": null,
   "id": "7e6b4ff8",
   "metadata": {},
   "outputs": [],
   "source": []
  }
 ],
 "metadata": {
  "kernelspec": {
   "display_name": "Python 3 (ipykernel)",
   "language": "python",
   "name": "python3"
  },
  "language_info": {
   "codemirror_mode": {
    "name": "ipython",
    "version": 3
   },
   "file_extension": ".py",
   "mimetype": "text/x-python",
   "name": "python",
   "nbconvert_exporter": "python",
   "pygments_lexer": "ipython3",
   "version": "3.9.13"
  }
 },
 "nbformat": 4,
 "nbformat_minor": 5
}
